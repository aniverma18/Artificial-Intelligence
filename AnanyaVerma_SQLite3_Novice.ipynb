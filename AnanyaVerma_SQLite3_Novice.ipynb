{
  "nbformat": 4,
  "nbformat_minor": 0,
  "metadata": {
    "colab": {
      "provenance": [],
      "collapsed_sections": [
        "tc_glreoVTcB",
        "DRgujp1WVJ5i"
      ],
      "toc_visible": true
    },
    "kernelspec": {
      "name": "python3",
      "display_name": "Python 3"
    }
  },
  "cells": [
    {
      "cell_type": "markdown",
      "metadata": {
        "id": "dHaT0qjDVhjX"
      },
      "source": [
        "# Project Requirement\n",
        "\n",
        "1. Must create/import/manipulate data\n",
        "2. Must build a query based search\n",
        "3. Must sort or modify(update) data\n",
        "4. Must aggregate the data using a method\n",
        "5. Must analyze the data and create a data chart/table"
      ]
    },
    {
      "cell_type": "markdown",
      "source": [
        "# Solution\n",
        "\n",
        "0. Install & Import Libraries\n",
        "1. Created Database(DB) called **Trial**\n",
        "2. Created Table called **Person** in Database(DB)\n",
        "3. Created Python Function To Insert, Update, Delete and Search Records in **Person** table\n",
        "4. Used above functions\n",
        "5. Used Count, Sum aggregate SQL functions\n",
        "6. Used Sorting\n",
        "7. Import Data\n",
        "8. Analyzed data and generated charts"
      ],
      "metadata": {
        "id": "waMcgiuEMXpu"
      }
    },
    {
      "cell_type": "markdown",
      "source": [
        "#Step 0\n",
        "\n",
        "Install & Import Libraries\n"
      ],
      "metadata": {
        "id": "WpJkH1KqVQzq"
      }
    },
    {
      "cell_type": "code",
      "metadata": {
        "id": "3xzFcTDJQZ5D",
        "colab": {
          "base_uri": "https://localhost:8080/"
        },
        "outputId": "78c46333-acbd-413e-8f61-448657095088"
      },
      "source": [
        "#Install database in local instance\n",
        "!pip install db-sqlite3"
      ],
      "execution_count": null,
      "outputs": [
        {
          "output_type": "stream",
          "name": "stdout",
          "text": [
            "Looking in indexes: https://pypi.org/simple, https://us-python.pkg.dev/colab-wheels/public/simple/\n",
            "Requirement already satisfied: db-sqlite3 in /usr/local/lib/python3.9/dist-packages (0.0.1)\n",
            "Requirement already satisfied: db in /usr/local/lib/python3.9/dist-packages (from db-sqlite3) (0.1.1)\n",
            "Requirement already satisfied: antiorm in /usr/local/lib/python3.9/dist-packages (from db->db-sqlite3) (1.2.1)\n"
          ]
        }
      ]
    },
    {
      "cell_type": "code",
      "metadata": {
        "id": "G6sqzP_tJIEe"
      },
      "source": [
        "import pandas as pd\n",
        "import sqlite3\n",
        "from datetime import date\n"
      ],
      "execution_count": null,
      "outputs": []
    },
    {
      "cell_type": "markdown",
      "source": [
        "#Step 1 & 2\n",
        "\n",
        "Created Database(DB) called **Trial**\n",
        "Created Table called **Person** in Database(DB)\n",
        "\n"
      ],
      "metadata": {
        "id": "lZX1PiPYOAx7"
      }
    },
    {
      "cell_type": "code",
      "metadata": {
        "id": "mlehKdxUJSz-"
      },
      "source": [
        "#Create or Connect to with the Trial database.\n",
        "db = sqlite3.connect(\"trial.db\")\n",
        "\n",
        "#Delete Table if exist\n",
        "db.execute(\"drop table if exists Person\")\n",
        "try:\n",
        "  #Create table\n",
        "  db.execute(\"create table Person(Name text, Date datetime, Mobile text,Email text,City text)\")\n",
        "except:\n",
        "  print(\"Already table existed !!\")"
      ],
      "execution_count": null,
      "outputs": []
    },
    {
      "cell_type": "markdown",
      "source": [
        "#Step 3\n",
        "\n",
        "Created Python Function To Insert, Update, Delete and Search Records in **Person** table\n"
      ],
      "metadata": {
        "id": "QqqLgdq6UbW_"
      }
    },
    {
      "cell_type": "code",
      "metadata": {
        "id": "UYYvaXHvJQ6V"
      },
      "source": [
        "#Inserting into Person tabls\n",
        "def InsertPerson(Name,Mobile,Mail, City):\n",
        "    #Connecting to DB\n",
        "    db = sqlite3.connect(\"trial.db\")\n",
        "\n",
        "    #Picking today's Date\n",
        "    Date = date.today().strftime(\"%d-%m-%Y\")\n",
        "\n",
        "    #Creating SQL INSERT Command\n",
        "    cmd = \"INSERT INTO Person(Name, Mobile,Date,EMail, City) values('{}','{}','{}','{}','{}')\".format(Name,Mobile,Date,Mail, City)\n",
        "\n",
        "    #Execute the Query\n",
        "    db.execute(cmd)\n",
        "\n",
        "    #Commiting a change\n",
        "    db.commit()\n",
        "\n",
        "\n",
        "#Update Person Email\n",
        "def UpdatePersonEMail(Mobile,Mail):\n",
        "    #Connecting to DB\n",
        "    db = sqlite3.connect(\"trial.db\")\n",
        "\n",
        "    #Picking today's Date\n",
        "    Date = date.today().strftime(\"%d-%m-%Y\")\n",
        "\n",
        "    #Creating SQL INSERT Command\n",
        "    cmd = \"UPDATE Person SET Date = '{}',EMail = '{}' WHERE Mobile = '{}' \".format(Date,Mail,Mobile)\n",
        "\n",
        "    #Execute the Query\n",
        "    db.execute(cmd)\n",
        "\n",
        "    #Commiting a change\n",
        "    db.commit()\n",
        "\n",
        "\n",
        "#Update City\n",
        "def UpdateCity(NewCity,OldCity):\n",
        "    #Connecting to DB\n",
        "    db = sqlite3.connect(\"trial.db\")\n",
        "\n",
        "    #Picking today's Date\n",
        "    Date = date.today().strftime(\"%d-%m-%Y\")\n",
        "\n",
        "    #Creating SQL INSERT Command\n",
        "    cmd = \"UPDATE Person SET Date = '{}',City = '{}' WHERE City = '{}' \".format(Date,NewCity,OldCity)\n",
        "\n",
        "    #Execute the Query\n",
        "    db.execute(cmd)\n",
        "\n",
        "    #Commiting a change\n",
        "    db.commit()\n",
        "\n",
        "#Select Person table for Mobile parameter\n",
        "def SelectPerson(Mobile):\n",
        "    #Connecting to DB\n",
        "    db = sqlite3.connect(\"trial.db\")\n",
        "\n",
        "    #Picking today's Date\n",
        "    Date = date.today().strftime(\"%d-%m-%Y\")\n",
        "\n",
        "    #Creating SQL INSERT Command\n",
        "    cmd = \"SELECT * FROM Person WHERE Mobile = '{}' \".format(Mobile)\n",
        "\n",
        "    #Execute the Query\n",
        "    rs = db.execute(cmd)\n",
        "    for row in rs:\n",
        "        print (row)\n",
        "    #Commiting a change\n",
        "    db.commit()\n",
        "\n",
        "\n",
        "#Select All Person\n",
        "def SelectAllPerson():\n",
        "    #Connecting to DB\n",
        "    db = sqlite3.connect(\"trial.db\")\n",
        "\n",
        "    #Creating SQL INSERT Command\n",
        "    cmd = \"SELECT * FROM Person\"\n",
        "\n",
        "    #Execute the Query\n",
        "    rs = db.execute(cmd)\n",
        "    for row in rs:\n",
        "        print (row)\n",
        "    #Commiting a change\n",
        "    db.commit()\n",
        "\n",
        "\n",
        "#Person Order By City\n",
        "def PersonSortByCity():\n",
        "    #Connecting to DB\n",
        "    db = sqlite3.connect(\"trial.db\")\n",
        "\n",
        "    #Creating SQL INSERT Command\n",
        "    cmd = \"SELECT * FROM Person Order by City\"\n",
        "\n",
        "    #Execute the Query\n",
        "    rs = db.execute(cmd)\n",
        "    for row in rs:\n",
        "        print (row)\n",
        "    #Commiting a change\n",
        "    db.commit()\n",
        "\n",
        "\n",
        "#Delete record from Person\n",
        "def DeletePerson(Mobile):\n",
        "    #Connecting to DB\n",
        "    db = sqlite3.connect(\"trial.db\")\n",
        "\n",
        "    #Creating SQL INSERT Command\n",
        "    cmd = \"DELETE FROM Person WHERE Mobile = '{}' \".format(Mobile)\n",
        "\n",
        "    #Execute the Query\n",
        "    db.execute(cmd)\n",
        "\n",
        "    #Commiting a change\n",
        "    db.commit()\n",
        "\n",
        "#Show Person Count for each City\n",
        "def ShowPersonPerCity():\n",
        "    #Connecting to DB\n",
        "    db = sqlite3.connect(\"trial.db\")\n",
        "\n",
        "    #Creating SQL INSERT Command\n",
        "    cmd = \"SELECT City,count(*) FROM Person Group By City\"\n",
        "\n",
        "    #Execute the Query\n",
        "    rs = db.execute(cmd)\n",
        "    for row in rs:\n",
        "        print (row)\n",
        "    #Commiting a change\n",
        "    db.commit()\n"
      ],
      "execution_count": null,
      "outputs": []
    },
    {
      "cell_type": "markdown",
      "source": [
        "# Step 4\n",
        "Use above functions"
      ],
      "metadata": {
        "id": "9oVvD9XWUjnR"
      }
    },
    {
      "cell_type": "code",
      "source": [
        "InsertPerson(\"Ananya\", \"9000000002\",\"ananya@gmail.com\", \"Mooresville\")"
      ],
      "metadata": {
        "id": "hlsEYYBfTNPk"
      },
      "execution_count": null,
      "outputs": []
    },
    {
      "cell_type": "code",
      "source": [
        "SelectPerson(\"9000000002\")"
      ],
      "metadata": {
        "colab": {
          "base_uri": "https://localhost:8080/"
        },
        "id": "qkIm3ZEaTc2i",
        "outputId": "b5237e26-3941-4813-cfef-3f9fcd8a081c"
      },
      "execution_count": null,
      "outputs": [
        {
          "output_type": "stream",
          "name": "stdout",
          "text": [
            "('Ananya', '28-03-2023', '9000000002', 'ananya@gmail.com', 'Mooresville')\n",
            "('Ananya', '28-03-2023', '9000000002', 'ananyaverma718@gmail.com', 'Mooresville')\n"
          ]
        }
      ]
    },
    {
      "cell_type": "code",
      "source": [
        "InsertPerson(\"Mike\", \"9000000003\",\"mike@gmail.com\",\"Davidson\")"
      ],
      "metadata": {
        "id": "1Uxtc29RTgbQ"
      },
      "execution_count": null,
      "outputs": []
    },
    {
      "cell_type": "code",
      "source": [
        "SelectAllPerson()"
      ],
      "metadata": {
        "colab": {
          "base_uri": "https://localhost:8080/"
        },
        "id": "zatqJgeNTl7K",
        "outputId": "f2c3389c-0b5b-42b7-ef0a-559618b7adc7"
      },
      "execution_count": null,
      "outputs": [
        {
          "output_type": "stream",
          "name": "stdout",
          "text": [
            "('Ananya', '28-03-2023', '9000000002', 'ananyaverma718@gmail.com', 'Mooresville')\n",
            "('Mike', '28-03-2023', '9000000003', 'mike@gmail.com', 'Davidson')\n"
          ]
        }
      ]
    },
    {
      "cell_type": "code",
      "source": [
        "UpdatePersonEMail(\"9000000002\",\"ananya@gmail.com\")"
      ],
      "metadata": {
        "id": "-dWsk2k6QqOq"
      },
      "execution_count": null,
      "outputs": []
    },
    {
      "cell_type": "code",
      "source": [
        "SelectAllPerson()"
      ],
      "metadata": {
        "colab": {
          "base_uri": "https://localhost:8080/"
        },
        "id": "SZXevBaTRNn0",
        "outputId": "b03f64e7-4311-4f19-f7bf-6cc9530d4c93"
      },
      "execution_count": null,
      "outputs": [
        {
          "output_type": "stream",
          "name": "stdout",
          "text": [
            "('Ananya', '28-03-2023', '9000000002', 'ananya@gmail.com', 'Mooresville')\n",
            "('Mike', '28-03-2023', '9000000003', 'mike@gmail.com', 'Davidson')\n"
          ]
        }
      ]
    },
    {
      "cell_type": "code",
      "source": [
        "UpdateCity(\"Huntersville\",\"Hunterville\")"
      ],
      "metadata": {
        "id": "d-AklhwjwqJ2"
      },
      "execution_count": null,
      "outputs": []
    },
    {
      "cell_type": "markdown",
      "source": [
        "# Step 5\n",
        "Use Count aggregate SQL functions\n"
      ],
      "metadata": {
        "id": "vfBojWvlUu8B"
      }
    },
    {
      "cell_type": "code",
      "source": [
        "ShowPersonPerCity()"
      ],
      "metadata": {
        "colab": {
          "base_uri": "https://localhost:8080/"
        },
        "id": "S4P9ZP2WVxkt",
        "outputId": "2db2ebb9-477c-44e2-e772-c9c6e0da9e31"
      },
      "execution_count": null,
      "outputs": [
        {
          "output_type": "stream",
          "name": "stdout",
          "text": [
            "('Davidson', 1)\n",
            "('Mooresville', 1)\n"
          ]
        }
      ]
    },
    {
      "cell_type": "markdown",
      "source": [
        "# Step 6\n",
        "Use Sorting\n"
      ],
      "metadata": {
        "id": "F7znZoRMWRvP"
      }
    },
    {
      "cell_type": "code",
      "source": [
        "PersonSortByCity()"
      ],
      "metadata": {
        "colab": {
          "base_uri": "https://localhost:8080/"
        },
        "id": "0ACYy7NmWWxw",
        "outputId": "d8dc8577-ae72-45e4-cc22-6a7cc7cdbdc9"
      },
      "execution_count": null,
      "outputs": [
        {
          "output_type": "stream",
          "name": "stdout",
          "text": [
            "('Mike', '28-03-2023', '9000000003', 'mike@gmail.com', 'Davidson')\n",
            "('Ananya', '28-03-2023', '9000000002', 'ananya@gmail.com', 'Mooresville')\n",
            "('Ananya', '28-03-2023', '9000000002', 'ananyaverma718@gmail.com', 'Mooresville')\n"
          ]
        }
      ]
    },
    {
      "cell_type": "markdown",
      "source": [
        "# Step 7\n",
        "Import Data"
      ],
      "metadata": {
        "id": "I4sC6jQtWXIO"
      }
    },
    {
      "cell_type": "code",
      "source": [
        "# Import data into data frame and then Insert into Database Table Person\n",
        "data = pd.read_Person.csv(\"Person.csv\")\n",
        "data.head()\n",
        "data.shape\n",
        "\n",
        "#Loop through dataframe and insert record into table\n",
        "for i in range(0,len(data)):\n",
        "  #My function to insert data\n",
        "  InsertPerson(data.iloc[i][0],data.iloc[i][1],data.iloc[i][2],data.iloc[i][3])\n"
      ],
      "metadata": {
        "id": "BynP-CaDWasO",
        "colab": {
          "base_uri": "https://localhost:8080/",
          "height": 407
        },
        "outputId": "878a94e2-d5f1-455e-ebaa-7e0fc6653ab5"
      },
      "execution_count": null,
      "outputs": [
        {
          "output_type": "error",
          "ename": "FileNotFoundError",
          "evalue": "ignored",
          "traceback": [
            "\u001b[0;31m---------------------------------------------------------------------------\u001b[0m",
            "\u001b[0;31mFileNotFoundError\u001b[0m                         Traceback (most recent call last)",
            "\u001b[0;32m<ipython-input-28-3b9bb4a6ae6b>\u001b[0m in \u001b[0;36m<module>\u001b[0;34m\u001b[0m\n\u001b[1;32m      1\u001b[0m \u001b[0;31m# Import data into data frame and then Insert into Database Table Person\u001b[0m\u001b[0;34m\u001b[0m\u001b[0;34m\u001b[0m\u001b[0m\n\u001b[0;32m----> 2\u001b[0;31m \u001b[0mdata\u001b[0m \u001b[0;34m=\u001b[0m \u001b[0mpd\u001b[0m\u001b[0;34m.\u001b[0m\u001b[0mread_csv\u001b[0m\u001b[0;34m(\u001b[0m\u001b[0;34m\"Person.csv\"\u001b[0m\u001b[0;34m)\u001b[0m\u001b[0;34m\u001b[0m\u001b[0;34m\u001b[0m\u001b[0m\n\u001b[0m\u001b[1;32m      3\u001b[0m \u001b[0mdata\u001b[0m\u001b[0;34m.\u001b[0m\u001b[0mhead\u001b[0m\u001b[0;34m(\u001b[0m\u001b[0;34m)\u001b[0m\u001b[0;34m\u001b[0m\u001b[0;34m\u001b[0m\u001b[0m\n\u001b[1;32m      4\u001b[0m \u001b[0mdata\u001b[0m\u001b[0;34m.\u001b[0m\u001b[0mshape\u001b[0m\u001b[0;34m\u001b[0m\u001b[0;34m\u001b[0m\u001b[0m\n\u001b[1;32m      5\u001b[0m \u001b[0;34m\u001b[0m\u001b[0m\n",
            "\u001b[0;32m/usr/local/lib/python3.9/dist-packages/pandas/util/_decorators.py\u001b[0m in \u001b[0;36mwrapper\u001b[0;34m(*args, **kwargs)\u001b[0m\n\u001b[1;32m    309\u001b[0m                     \u001b[0mstacklevel\u001b[0m\u001b[0;34m=\u001b[0m\u001b[0mstacklevel\u001b[0m\u001b[0;34m,\u001b[0m\u001b[0;34m\u001b[0m\u001b[0;34m\u001b[0m\u001b[0m\n\u001b[1;32m    310\u001b[0m                 )\n\u001b[0;32m--> 311\u001b[0;31m             \u001b[0;32mreturn\u001b[0m \u001b[0mfunc\u001b[0m\u001b[0;34m(\u001b[0m\u001b[0;34m*\u001b[0m\u001b[0margs\u001b[0m\u001b[0;34m,\u001b[0m \u001b[0;34m**\u001b[0m\u001b[0mkwargs\u001b[0m\u001b[0;34m)\u001b[0m\u001b[0;34m\u001b[0m\u001b[0;34m\u001b[0m\u001b[0m\n\u001b[0m\u001b[1;32m    312\u001b[0m \u001b[0;34m\u001b[0m\u001b[0m\n\u001b[1;32m    313\u001b[0m         \u001b[0;32mreturn\u001b[0m \u001b[0mwrapper\u001b[0m\u001b[0;34m\u001b[0m\u001b[0;34m\u001b[0m\u001b[0m\n",
            "\u001b[0;32m/usr/local/lib/python3.9/dist-packages/pandas/io/parsers/readers.py\u001b[0m in \u001b[0;36mread_csv\u001b[0;34m(filepath_or_buffer, sep, delimiter, header, names, index_col, usecols, squeeze, prefix, mangle_dupe_cols, dtype, engine, converters, true_values, false_values, skipinitialspace, skiprows, skipfooter, nrows, na_values, keep_default_na, na_filter, verbose, skip_blank_lines, parse_dates, infer_datetime_format, keep_date_col, date_parser, dayfirst, cache_dates, iterator, chunksize, compression, thousands, decimal, lineterminator, quotechar, quoting, doublequote, escapechar, comment, encoding, encoding_errors, dialect, error_bad_lines, warn_bad_lines, on_bad_lines, delim_whitespace, low_memory, memory_map, float_precision, storage_options)\u001b[0m\n\u001b[1;32m    676\u001b[0m     \u001b[0mkwds\u001b[0m\u001b[0;34m.\u001b[0m\u001b[0mupdate\u001b[0m\u001b[0;34m(\u001b[0m\u001b[0mkwds_defaults\u001b[0m\u001b[0;34m)\u001b[0m\u001b[0;34m\u001b[0m\u001b[0;34m\u001b[0m\u001b[0m\n\u001b[1;32m    677\u001b[0m \u001b[0;34m\u001b[0m\u001b[0m\n\u001b[0;32m--> 678\u001b[0;31m     \u001b[0;32mreturn\u001b[0m \u001b[0m_read\u001b[0m\u001b[0;34m(\u001b[0m\u001b[0mfilepath_or_buffer\u001b[0m\u001b[0;34m,\u001b[0m \u001b[0mkwds\u001b[0m\u001b[0;34m)\u001b[0m\u001b[0;34m\u001b[0m\u001b[0;34m\u001b[0m\u001b[0m\n\u001b[0m\u001b[1;32m    679\u001b[0m \u001b[0;34m\u001b[0m\u001b[0m\n\u001b[1;32m    680\u001b[0m \u001b[0;34m\u001b[0m\u001b[0m\n",
            "\u001b[0;32m/usr/local/lib/python3.9/dist-packages/pandas/io/parsers/readers.py\u001b[0m in \u001b[0;36m_read\u001b[0;34m(filepath_or_buffer, kwds)\u001b[0m\n\u001b[1;32m    573\u001b[0m \u001b[0;34m\u001b[0m\u001b[0m\n\u001b[1;32m    574\u001b[0m     \u001b[0;31m# Create the parser.\u001b[0m\u001b[0;34m\u001b[0m\u001b[0;34m\u001b[0m\u001b[0m\n\u001b[0;32m--> 575\u001b[0;31m     \u001b[0mparser\u001b[0m \u001b[0;34m=\u001b[0m \u001b[0mTextFileReader\u001b[0m\u001b[0;34m(\u001b[0m\u001b[0mfilepath_or_buffer\u001b[0m\u001b[0;34m,\u001b[0m \u001b[0;34m**\u001b[0m\u001b[0mkwds\u001b[0m\u001b[0;34m)\u001b[0m\u001b[0;34m\u001b[0m\u001b[0;34m\u001b[0m\u001b[0m\n\u001b[0m\u001b[1;32m    576\u001b[0m \u001b[0;34m\u001b[0m\u001b[0m\n\u001b[1;32m    577\u001b[0m     \u001b[0;32mif\u001b[0m \u001b[0mchunksize\u001b[0m \u001b[0;32mor\u001b[0m \u001b[0miterator\u001b[0m\u001b[0;34m:\u001b[0m\u001b[0;34m\u001b[0m\u001b[0;34m\u001b[0m\u001b[0m\n",
            "\u001b[0;32m/usr/local/lib/python3.9/dist-packages/pandas/io/parsers/readers.py\u001b[0m in \u001b[0;36m__init__\u001b[0;34m(self, f, engine, **kwds)\u001b[0m\n\u001b[1;32m    930\u001b[0m \u001b[0;34m\u001b[0m\u001b[0m\n\u001b[1;32m    931\u001b[0m         \u001b[0mself\u001b[0m\u001b[0;34m.\u001b[0m\u001b[0mhandles\u001b[0m\u001b[0;34m:\u001b[0m \u001b[0mIOHandles\u001b[0m \u001b[0;34m|\u001b[0m \u001b[0;32mNone\u001b[0m \u001b[0;34m=\u001b[0m \u001b[0;32mNone\u001b[0m\u001b[0;34m\u001b[0m\u001b[0;34m\u001b[0m\u001b[0m\n\u001b[0;32m--> 932\u001b[0;31m         \u001b[0mself\u001b[0m\u001b[0;34m.\u001b[0m\u001b[0m_engine\u001b[0m \u001b[0;34m=\u001b[0m \u001b[0mself\u001b[0m\u001b[0;34m.\u001b[0m\u001b[0m_make_engine\u001b[0m\u001b[0;34m(\u001b[0m\u001b[0mf\u001b[0m\u001b[0;34m,\u001b[0m \u001b[0mself\u001b[0m\u001b[0;34m.\u001b[0m\u001b[0mengine\u001b[0m\u001b[0;34m)\u001b[0m\u001b[0;34m\u001b[0m\u001b[0;34m\u001b[0m\u001b[0m\n\u001b[0m\u001b[1;32m    933\u001b[0m \u001b[0;34m\u001b[0m\u001b[0m\n\u001b[1;32m    934\u001b[0m     \u001b[0;32mdef\u001b[0m \u001b[0mclose\u001b[0m\u001b[0;34m(\u001b[0m\u001b[0mself\u001b[0m\u001b[0;34m)\u001b[0m\u001b[0;34m:\u001b[0m\u001b[0;34m\u001b[0m\u001b[0;34m\u001b[0m\u001b[0m\n",
            "\u001b[0;32m/usr/local/lib/python3.9/dist-packages/pandas/io/parsers/readers.py\u001b[0m in \u001b[0;36m_make_engine\u001b[0;34m(self, f, engine)\u001b[0m\n\u001b[1;32m   1214\u001b[0m             \u001b[0;31m# \"Union[str, PathLike[str], ReadCsvBuffer[bytes], ReadCsvBuffer[str]]\"\u001b[0m\u001b[0;34m\u001b[0m\u001b[0;34m\u001b[0m\u001b[0m\n\u001b[1;32m   1215\u001b[0m             \u001b[0;31m# , \"str\", \"bool\", \"Any\", \"Any\", \"Any\", \"Any\", \"Any\"\u001b[0m\u001b[0;34m\u001b[0m\u001b[0;34m\u001b[0m\u001b[0m\n\u001b[0;32m-> 1216\u001b[0;31m             self.handles = get_handle(  # type: ignore[call-overload]\n\u001b[0m\u001b[1;32m   1217\u001b[0m                 \u001b[0mf\u001b[0m\u001b[0;34m,\u001b[0m\u001b[0;34m\u001b[0m\u001b[0;34m\u001b[0m\u001b[0m\n\u001b[1;32m   1218\u001b[0m                 \u001b[0mmode\u001b[0m\u001b[0;34m,\u001b[0m\u001b[0;34m\u001b[0m\u001b[0;34m\u001b[0m\u001b[0m\n",
            "\u001b[0;32m/usr/local/lib/python3.9/dist-packages/pandas/io/common.py\u001b[0m in \u001b[0;36mget_handle\u001b[0;34m(path_or_buf, mode, encoding, compression, memory_map, is_text, errors, storage_options)\u001b[0m\n\u001b[1;32m    784\u001b[0m         \u001b[0;32mif\u001b[0m \u001b[0mioargs\u001b[0m\u001b[0;34m.\u001b[0m\u001b[0mencoding\u001b[0m \u001b[0;32mand\u001b[0m \u001b[0;34m\"b\"\u001b[0m \u001b[0;32mnot\u001b[0m \u001b[0;32min\u001b[0m \u001b[0mioargs\u001b[0m\u001b[0;34m.\u001b[0m\u001b[0mmode\u001b[0m\u001b[0;34m:\u001b[0m\u001b[0;34m\u001b[0m\u001b[0;34m\u001b[0m\u001b[0m\n\u001b[1;32m    785\u001b[0m             \u001b[0;31m# Encoding\u001b[0m\u001b[0;34m\u001b[0m\u001b[0;34m\u001b[0m\u001b[0m\n\u001b[0;32m--> 786\u001b[0;31m             handle = open(\n\u001b[0m\u001b[1;32m    787\u001b[0m                 \u001b[0mhandle\u001b[0m\u001b[0;34m,\u001b[0m\u001b[0;34m\u001b[0m\u001b[0;34m\u001b[0m\u001b[0m\n\u001b[1;32m    788\u001b[0m                 \u001b[0mioargs\u001b[0m\u001b[0;34m.\u001b[0m\u001b[0mmode\u001b[0m\u001b[0;34m,\u001b[0m\u001b[0;34m\u001b[0m\u001b[0;34m\u001b[0m\u001b[0m\n",
            "\u001b[0;31mFileNotFoundError\u001b[0m: [Errno 2] No such file or directory: 'Person.csv'"
          ]
        }
      ]
    },
    {
      "cell_type": "code",
      "source": [
        "#Verify All Data\n",
        "SelectAllPerson()"
      ],
      "metadata": {
        "colab": {
          "base_uri": "https://localhost:8080/"
        },
        "id": "zoszH7Lgagfb",
        "outputId": "b8f2e8d9-8faf-4c5a-f1da-4d52382f792d"
      },
      "execution_count": null,
      "outputs": [
        {
          "output_type": "stream",
          "name": "stdout",
          "text": [
            "('Ananya', '28-03-2023', '9000000002', 'ananya@gmail.com', 'Mooresville')\n",
            "('Mike', '28-03-2023', '9000000003', 'mike@gmail.com', 'Davidson')\n"
          ]
        }
      ]
    },
    {
      "cell_type": "markdown",
      "source": [
        "# Step 8\n",
        "Analyzed data and generated charts"
      ],
      "metadata": {
        "id": "yvlQJr1hWbLX"
      }
    },
    {
      "cell_type": "code",
      "source": [
        "#Pull data into Dataframe\n",
        "import pandas as pd\n",
        "\n",
        "conn = sqlite3.connect('trial.db')\n",
        "\n",
        "sql_query = pd.read_sql_query ('''\n",
        "                               SELECT\n",
        "                               *\n",
        "                               FROM Person\n",
        "                               ''', conn)\n",
        "\n",
        "df = pd.DataFrame(sql_query)\n",
        "print (df)"
      ],
      "metadata": {
        "colab": {
          "base_uri": "https://localhost:8080/"
        },
        "id": "sRJoogJKZbg0",
        "outputId": "bc0c518d-e1d0-4152-b196-b466e590ebe8"
      },
      "execution_count": null,
      "outputs": [
        {
          "output_type": "stream",
          "name": "stdout",
          "text": [
            "     Name        Date      Mobile                     Email         City\n",
            "0  Ananya  28-03-2023  9000000002          ananya@gmail.com  Mooresville\n",
            "1    Mike  28-03-2023  9000000003            mike@gmail.com     Davidson\n",
            "2  Ananya  28-03-2023  9000000002  ananyaverma718@gmail.com  Mooresville\n"
          ]
        }
      ]
    },
    {
      "cell_type": "code",
      "source": [
        "#The data in tabular format\n",
        "df"
      ],
      "metadata": {
        "colab": {
          "base_uri": "https://localhost:8080/",
          "height": 143
        },
        "id": "miDeH3JsbRj1",
        "outputId": "afdd275b-dabc-438b-8467-d3c6cc8926e3"
      },
      "execution_count": null,
      "outputs": [
        {
          "output_type": "execute_result",
          "data": {
            "text/plain": [
              "     Name        Date      Mobile                     Email         City\n",
              "0  Ananya  28-03-2023  9000000002          ananya@gmail.com  Mooresville\n",
              "1    Mike  28-03-2023  9000000003            mike@gmail.com     Davidson\n",
              "2  Ananya  28-03-2023  9000000002  ananyaverma718@gmail.com  Mooresville"
            ],
            "text/html": [
              "\n",
              "  <div id=\"df-bb6bb908-fead-4748-83c0-79315a454a15\">\n",
              "    <div class=\"colab-df-container\">\n",
              "      <div>\n",
              "<style scoped>\n",
              "    .dataframe tbody tr th:only-of-type {\n",
              "        vertical-align: middle;\n",
              "    }\n",
              "\n",
              "    .dataframe tbody tr th {\n",
              "        vertical-align: top;\n",
              "    }\n",
              "\n",
              "    .dataframe thead th {\n",
              "        text-align: right;\n",
              "    }\n",
              "</style>\n",
              "<table border=\"1\" class=\"dataframe\">\n",
              "  <thead>\n",
              "    <tr style=\"text-align: right;\">\n",
              "      <th></th>\n",
              "      <th>Name</th>\n",
              "      <th>Date</th>\n",
              "      <th>Mobile</th>\n",
              "      <th>Email</th>\n",
              "      <th>City</th>\n",
              "    </tr>\n",
              "  </thead>\n",
              "  <tbody>\n",
              "    <tr>\n",
              "      <th>0</th>\n",
              "      <td>Ananya</td>\n",
              "      <td>28-03-2023</td>\n",
              "      <td>9000000002</td>\n",
              "      <td>ananya@gmail.com</td>\n",
              "      <td>Mooresville</td>\n",
              "    </tr>\n",
              "    <tr>\n",
              "      <th>1</th>\n",
              "      <td>Mike</td>\n",
              "      <td>28-03-2023</td>\n",
              "      <td>9000000003</td>\n",
              "      <td>mike@gmail.com</td>\n",
              "      <td>Davidson</td>\n",
              "    </tr>\n",
              "    <tr>\n",
              "      <th>2</th>\n",
              "      <td>Ananya</td>\n",
              "      <td>28-03-2023</td>\n",
              "      <td>9000000002</td>\n",
              "      <td>ananyaverma718@gmail.com</td>\n",
              "      <td>Mooresville</td>\n",
              "    </tr>\n",
              "  </tbody>\n",
              "</table>\n",
              "</div>\n",
              "      <button class=\"colab-df-convert\" onclick=\"convertToInteractive('df-bb6bb908-fead-4748-83c0-79315a454a15')\"\n",
              "              title=\"Convert this dataframe to an interactive table.\"\n",
              "              style=\"display:none;\">\n",
              "        \n",
              "  <svg xmlns=\"http://www.w3.org/2000/svg\" height=\"24px\"viewBox=\"0 0 24 24\"\n",
              "       width=\"24px\">\n",
              "    <path d=\"M0 0h24v24H0V0z\" fill=\"none\"/>\n",
              "    <path d=\"M18.56 5.44l.94 2.06.94-2.06 2.06-.94-2.06-.94-.94-2.06-.94 2.06-2.06.94zm-11 1L8.5 8.5l.94-2.06 2.06-.94-2.06-.94L8.5 2.5l-.94 2.06-2.06.94zm10 10l.94 2.06.94-2.06 2.06-.94-2.06-.94-.94-2.06-.94 2.06-2.06.94z\"/><path d=\"M17.41 7.96l-1.37-1.37c-.4-.4-.92-.59-1.43-.59-.52 0-1.04.2-1.43.59L10.3 9.45l-7.72 7.72c-.78.78-.78 2.05 0 2.83L4 21.41c.39.39.9.59 1.41.59.51 0 1.02-.2 1.41-.59l7.78-7.78 2.81-2.81c.8-.78.8-2.07 0-2.86zM5.41 20L4 18.59l7.72-7.72 1.47 1.35L5.41 20z\"/>\n",
              "  </svg>\n",
              "      </button>\n",
              "      \n",
              "  <style>\n",
              "    .colab-df-container {\n",
              "      display:flex;\n",
              "      flex-wrap:wrap;\n",
              "      gap: 12px;\n",
              "    }\n",
              "\n",
              "    .colab-df-convert {\n",
              "      background-color: #E8F0FE;\n",
              "      border: none;\n",
              "      border-radius: 50%;\n",
              "      cursor: pointer;\n",
              "      display: none;\n",
              "      fill: #1967D2;\n",
              "      height: 32px;\n",
              "      padding: 0 0 0 0;\n",
              "      width: 32px;\n",
              "    }\n",
              "\n",
              "    .colab-df-convert:hover {\n",
              "      background-color: #E2EBFA;\n",
              "      box-shadow: 0px 1px 2px rgba(60, 64, 67, 0.3), 0px 1px 3px 1px rgba(60, 64, 67, 0.15);\n",
              "      fill: #174EA6;\n",
              "    }\n",
              "\n",
              "    [theme=dark] .colab-df-convert {\n",
              "      background-color: #3B4455;\n",
              "      fill: #D2E3FC;\n",
              "    }\n",
              "\n",
              "    [theme=dark] .colab-df-convert:hover {\n",
              "      background-color: #434B5C;\n",
              "      box-shadow: 0px 1px 3px 1px rgba(0, 0, 0, 0.15);\n",
              "      filter: drop-shadow(0px 1px 2px rgba(0, 0, 0, 0.3));\n",
              "      fill: #FFFFFF;\n",
              "    }\n",
              "  </style>\n",
              "\n",
              "      <script>\n",
              "        const buttonEl =\n",
              "          document.querySelector('#df-bb6bb908-fead-4748-83c0-79315a454a15 button.colab-df-convert');\n",
              "        buttonEl.style.display =\n",
              "          google.colab.kernel.accessAllowed ? 'block' : 'none';\n",
              "\n",
              "        async function convertToInteractive(key) {\n",
              "          const element = document.querySelector('#df-bb6bb908-fead-4748-83c0-79315a454a15');\n",
              "          const dataTable =\n",
              "            await google.colab.kernel.invokeFunction('convertToInteractive',\n",
              "                                                     [key], {});\n",
              "          if (!dataTable) return;\n",
              "\n",
              "          const docLinkHtml = 'Like what you see? Visit the ' +\n",
              "            '<a target=\"_blank\" href=https://colab.research.google.com/notebooks/data_table.ipynb>data table notebook</a>'\n",
              "            + ' to learn more about interactive tables.';\n",
              "          element.innerHTML = '';\n",
              "          dataTable['output_type'] = 'display_data';\n",
              "          await google.colab.output.renderOutput(dataTable, element);\n",
              "          const docLink = document.createElement('div');\n",
              "          docLink.innerHTML = docLinkHtml;\n",
              "          element.appendChild(docLink);\n",
              "        }\n",
              "      </script>\n",
              "    </div>\n",
              "  </div>\n",
              "  "
            ]
          },
          "metadata": {},
          "execution_count": 26
        }
      ]
    },
    {
      "cell_type": "code",
      "source": [
        "import matplotlib.pyplot as plt\n",
        "\n",
        "# Used group by to get count of  person in each city\n",
        "city_counts = df.groupby('City').count()\n",
        "\n",
        "\n",
        "# Create a pie chart of the city counts\n",
        "fig, ax = plt.subplots()\n",
        "ax.pie(city_counts['Email'], labels=city_counts.index, autopct='%1.1f%%')\n",
        "ax.set_title('Person Per City Distribution')\n",
        "\n",
        "#Show Pie chat Person Qty Per City\n",
        "plt.show()"
      ],
      "metadata": {
        "colab": {
          "base_uri": "https://localhost:8080/",
          "height": 264
        },
        "id": "9x3n6Pt0dFRG",
        "outputId": "7bdd1a31-b5dd-4899-91ac-a23f1b2e6d5b"
      },
      "execution_count": null,
      "outputs": [
        {
          "output_type": "display_data",
          "data": {
            "text/plain": [
              "<Figure size 432x288 with 1 Axes>"
            ],
            "image/png": "[encoded data removed]"
          },
          "metadata": {}
        }
      ]
    }
  ]
}